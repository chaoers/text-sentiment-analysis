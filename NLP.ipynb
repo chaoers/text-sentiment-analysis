{
 "metadata": {
  "language_info": {
   "codemirror_mode": {
    "name": "ipython",
    "version": 3
   },
   "file_extension": ".py",
   "mimetype": "text/x-python",
   "name": "python",
   "nbconvert_exporter": "python",
   "pygments_lexer": "ipython3",
   "version": "3.7.6-final"
  },
  "orig_nbformat": 2,
  "kernelspec": {
   "name": "python3",
   "display_name": "Python 3.7.6 64-bit ('base': conda)",
   "metadata": {
    "interpreter": {
     "hash": "e134e05457d34029b6460cd73bbf1ed73f339b5b6d98c95be70b69eba114fe95"
    }
   }
  }
 },
 "nbformat": 4,
 "nbformat_minor": 2,
 "cells": [
  {
   "cell_type": "code",
   "execution_count": null,
   "metadata": {},
   "outputs": [],
   "source": [
    "# 项目依赖包见`requirements.txt`\n",
    "# 根目录下使用`pip install -r requirements.txt`安装\n",
    "\n",
    "# 下载数据，首次安装时运行\n",
    "import nltk\n",
    "nltk.download('punkt')\n",
    "nltk.download('averaged_perceptron_tagger')\n",
    "nltk.download('brown')"
   ]
  },
  {
   "cell_type": "code",
   "execution_count": 1,
   "metadata": {
    "tags": []
   },
   "outputs": [
    {
     "output_type": "stream",
     "name": "stdout",
     "text": [
      "           0                                                  6\n0          1  Sheer Thigh High w/ Lace Top & Back Seam 1702 ...\n1          2  Size 00 in great condition Smoke free home Non...\n2          3  Unif black pentagram sweater or dress. Black w...\n3          4  Just purchased these and they are too small fo...\n4          5                                 No description yet\n...      ...                                                ...\n75478  42072  [rm] for the set both in perfect condition no ...\n75479  42073  Lace, says size small but fits medium perfectl...\n75480  42074   Little mermaid handmade dress never worn size 2t\n75481  42075          Used once or twice, still in great shape.\n75482  42076  There is 2 of each one that you see! So 2 red ...\n\n[75483 rows x 2 columns]\n"
     ]
    }
   ],
   "source": [
    "import pandas as pd\n",
    "\n",
    "file_dir = './test_data.txt'\n",
    "\n",
    "with open(file_dir, encoding='utf-8') as f:\n",
    "    # 获取原始数据\n",
    "    data = pd.read_table(f, header=None)\n",
    "\n",
    "# 查看数据\n",
    "# print(data ,data.dtypes)\n",
    "\n",
    "# 提取评论数据\n",
    "comm_data = data.iloc[:, [0, 6]]\n",
    "\n",
    "print(comm_data)\n",
    "\n"
   ]
  },
  {
   "cell_type": "code",
   "execution_count": 2,
   "metadata": {},
   "outputs": [
    {
     "output_type": "stream",
     "name": "stdout",
     "text": [
      "           0                                                  6  polarity  \\\n0          1  Sheer Thigh High w/ Lace Top & Back Seam 1702 ...  0.190065   \n1          2  Size 00 in great condition Smoke free home Non...  0.275000   \n2          3  Unif black pentagram sweater or dress. Black w... -0.009722   \n3          4  Just purchased these and they are too small fo... -0.222222   \n4          5                                 No description yet  0.000000   \n...      ...                                                ...       ...   \n75478  42072  [rm] for the set both in perfect condition no ...  0.512121   \n75479  42073  Lace, says size small but fits medium perfectl...  0.272222   \n75480  42074   Little mermaid handmade dress never worn size 2t -0.187500   \n75481  42075          Used once or twice, still in great shape.  0.800000   \n75482  42076  There is 2 of each one that you see! So 2 red ...  0.000000   \n\n       subjectivity  \n0          0.392078  \n1          0.787500  \n2          0.355556  \n3          0.688889  \n4          0.000000  \n...             ...  \n75478      0.618182  \n75479      0.686111  \n75480      0.500000  \n75481      0.750000  \n75482      0.033333  \n\n[75483 rows x 4 columns]\n"
     ]
    }
   ],
   "source": [
    "# 调用textblob进行情绪分析\n",
    "# https://textblob.readthedocs.io/\n",
    "\n",
    "from textblob import TextBlob\n",
    "\n",
    "# polarity项为文本积极性，是在[-1.0，1.0]范围内的浮点数\n",
    "# subjectivity项为主观评分，是在[0.0，1.0]范围内的浮点数，其中0.0是非常客观的，而1.0是非常主观的\n",
    "comm_data.insert(comm_data.shape[1], 'polarity', 0)\n",
    "comm_data.insert(comm_data.shape[1], 'subjectivity', 0)\n",
    "\n",
    "for i in range(0, data.shape[0]):\n",
    "    blob = TextBlob(data[6][i])\n",
    "    sentiment = blob.sentiment\n",
    "    comm_data.loc[i, 'polarity'] = sentiment.polarity\n",
    "    comm_data.loc[i, 'subjectivity'] = sentiment.subjectivity\n",
    "\n",
    "print(comm_data)"
   ]
  },
  {
   "cell_type": "code",
   "execution_count": null,
   "metadata": {},
   "outputs": [],
   "source": []
  }
 ]
}